{
 "cells": [
  {
   "cell_type": "code",
   "execution_count": 3,
   "metadata": {
    "collapsed": true
   },
   "outputs": [
    {
     "name": "stdout",
     "output_type": "stream",
     "text": [
      "21\n",
      "{0: 'F1', 1: 'F4', 2: 'K0', 3: 'K1', 4: 'K2', 5: 'K3', 6: 'K4', 7: 'K5', 8: 'L', 9: 'M0', 10: 'M1', 11: 'M2', 12: 'M3', 13: 'M4', 14: 'M5', 15: 'M6', 16: 'M7', 17: 'M8', 18: 'M9', 19: 'gM9', 20: 'sdm'}\n",
      "Counter({'M7': 4458, 'M6': 3896, 'M5': 1569, 'M8': 1396, 'M4': 1328, 'M9': 1047, 'M3': 268, 'L': 62, 'M0': 49, 'M2': 28, 'M1': 12, 'K0': 9, 'sdm': 7, 'K1': 7, 'K4': 7, 'K3': 6, 'K2': 5, 'K5': 3, 'F1': 3, 'gM9': 2, 'F4': 2})\n",
      "(14164, 45)\n",
      "(9489,)\n"
     ]
    }
   ],
   "source": [
    "from sklearn.naive_bayes import GaussianNB\n",
    "import pandas as pd\n",
    "from sklearn.preprocessing import LabelEncoder\n",
    "from collections import Counter\n",
    "from sklearn.model_selection import train_test_split\n",
    "import json\n",
    "\n",
    "# load data\n",
    "dataset = pd.read_csv(r'C:\\Users\\Administrator\\Desktop\\full_match_rizjhkw1_id_ra_dec_distance_extinc_1009_45_copy1.csv')\n",
    "# split data into X and y\n",
    "X = dataset.values[:, 22:67]\n",
    "\n",
    "Y = dataset.values[:, 70]\n",
    "encoder = LabelEncoder()\n",
    "Y_encoded = encoder.fit_transform(Y)\n",
    "classes_1=encoder.classes_\n",
    "classes_1_list=classes_1.tolist()\n",
    "\n",
    "subclass_amount=len(classes_1_list)\n",
    "print(subclass_amount)\n",
    "a=list(range(subclass_amount))\n",
    "\n",
    "d=zip(a,classes_1)\n",
    "c=dict(d)\n",
    "print(c)\n",
    "json_str = json.dumps(c)\n",
    "with open('class_indices_21.json', 'w') as json_file:\n",
    "    json_file.write(json_str)\n",
    "\n",
    "\n",
    "seed = 27\n",
    "test_size = 0.33\n",
    "X_train, X_test, y_train, y_test = train_test_split(X, Y_encoded, test_size=test_size, random_state=seed)\n",
    "# train_set = xgb.DMatrix(X_train, label=y_train)\n",
    "num_class=21\n",
    "\n",
    "print(Counter(Y))\n",
    "print(X.shape)\n",
    "print(y_train.shape)"
   ]
  },
  {
   "cell_type": "code",
   "execution_count": 4,
   "outputs": [
    {
     "data": {
      "text/plain": "GaussianNB()"
     },
     "execution_count": 4,
     "metadata": {},
     "output_type": "execute_result"
    }
   ],
   "source": [
    "clf = GaussianNB()\n",
    "#拟合数据\n",
    "clf.fit(X_train, y_train)"
   ],
   "metadata": {
    "collapsed": false,
    "pycharm": {
     "name": "#%%\n"
    }
   }
  },
  {
   "cell_type": "code",
   "execution_count": 4,
   "outputs": [],
   "source": [],
   "metadata": {
    "collapsed": false,
    "pycharm": {
     "name": "#%%\n"
    }
   }
  }
 ],
 "metadata": {
  "kernelspec": {
   "display_name": "Python 3",
   "language": "python",
   "name": "python3"
  },
  "language_info": {
   "codemirror_mode": {
    "name": "ipython",
    "version": 2
   },
   "file_extension": ".py",
   "mimetype": "text/x-python",
   "name": "python",
   "nbconvert_exporter": "python",
   "pygments_lexer": "ipython2",
   "version": "2.7.6"
  }
 },
 "nbformat": 4,
 "nbformat_minor": 0
}